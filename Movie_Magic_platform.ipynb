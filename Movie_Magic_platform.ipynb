{
 "cells": [
  {
   "cell_type": "markdown",
   "id": "804af8c4",
   "metadata": {},
   "source": [
    "# 🎥 Movie Recommendation & Sentiment Analysis System with Weather Info\n",
    "This project combines:\n",
    "- A Movie Recommendation System\n",
    "- Sentiment Analysis of user reviews\n",
    "- Weather Forecast display (for additional info)\n",
    "\n",
    "Technologies used: Python, Pandas, Scikit-Learn, NLTK, Flask, OpenWeatherMap API \n"
   ]
  },
  {
   "cell_type": "markdown",
   "id": "9c175265",
   "metadata": {},
   "source": [
    "Imports and Setup"
   ]
  },
  {
   "cell_type": "code",
   "execution_count": 25,
   "id": "4d5c74e0",
   "metadata": {},
   "outputs": [],
   "source": [
    "import pandas as pd\n",
    "import numpy as np\n",
    "from sklearn.feature_extraction.text import TfidfVectorizer\n",
    "from sklearn.metrics.pairwise import cosine_similarity"
   ]
  },
  {
   "cell_type": "markdown",
   "id": "a430b70d",
   "metadata": {},
   "source": [
    "Load Dataset"
   ]
  },
  {
   "cell_type": "code",
   "execution_count": 4,
   "id": "e647f74c",
   "metadata": {},
   "outputs": [],
   "source": [
    "data = pd.read_csv('datasets/netflix_titles.csv',encoding='latin1')"
   ]
  },
  {
   "cell_type": "code",
   "execution_count": 5,
   "id": "58a0a38c",
   "metadata": {},
   "outputs": [
    {
     "data": {
      "text/plain": [
       "(8809, 26)"
      ]
     },
     "execution_count": 5,
     "metadata": {},
     "output_type": "execute_result"
    }
   ],
   "source": [
    "data.shape"
   ]
  },
  {
   "cell_type": "code",
   "execution_count": 10,
   "id": "5941b4c4",
   "metadata": {},
   "outputs": [
    {
     "data": {
      "text/plain": [
       "Index(['show_id', 'type', 'title', 'director', 'cast', 'country', 'date_added',\n",
       "       'release_year', 'rating', 'duration', 'listed_in', 'description'],\n",
       "      dtype='object')"
      ]
     },
     "execution_count": 10,
     "metadata": {},
     "output_type": "execute_result"
    }
   ],
   "source": [
    "data.columns"
   ]
  },
  {
   "cell_type": "markdown",
   "id": "11d7fea7",
   "metadata": {},
   "source": [
    " Data Preprocessing & Cleaning"
   ]
  },
  {
   "cell_type": "code",
   "execution_count": 11,
   "id": "dceedb55",
   "metadata": {},
   "outputs": [],
   "source": [
    "for n in range(12,26):\n",
    "    data.drop(columns=[f'Unnamed: {n}'],inplace=True)"
   ]
  },
  {
   "cell_type": "code",
   "execution_count": 12,
   "id": "204bc230",
   "metadata": {
    "scrolled": true
   },
   "outputs": [
    {
     "data": {
      "text/html": [
       "<div>\n",
       "<style scoped>\n",
       "    .dataframe tbody tr th:only-of-type {\n",
       "        vertical-align: middle;\n",
       "    }\n",
       "\n",
       "    .dataframe tbody tr th {\n",
       "        vertical-align: top;\n",
       "    }\n",
       "\n",
       "    .dataframe thead th {\n",
       "        text-align: right;\n",
       "    }\n",
       "</style>\n",
       "<table border=\"1\" class=\"dataframe\">\n",
       "  <thead>\n",
       "    <tr style=\"text-align: right;\">\n",
       "      <th></th>\n",
       "      <th>show_id</th>\n",
       "      <th>type</th>\n",
       "      <th>title</th>\n",
       "      <th>director</th>\n",
       "      <th>cast</th>\n",
       "      <th>country</th>\n",
       "      <th>date_added</th>\n",
       "      <th>release_year</th>\n",
       "      <th>rating</th>\n",
       "      <th>duration</th>\n",
       "      <th>listed_in</th>\n",
       "      <th>description</th>\n",
       "    </tr>\n",
       "  </thead>\n",
       "  <tbody>\n",
       "    <tr>\n",
       "      <th>0</th>\n",
       "      <td>s1</td>\n",
       "      <td>Movie</td>\n",
       "      <td>Dick Johnson Is Dead</td>\n",
       "      <td>Kirsten Johnson</td>\n",
       "      <td>NaN</td>\n",
       "      <td>United States</td>\n",
       "      <td>September 25, 2021</td>\n",
       "      <td>2020</td>\n",
       "      <td>PG-13</td>\n",
       "      <td>90 min</td>\n",
       "      <td>Documentaries</td>\n",
       "      <td>As her father nears the end of his life, filmm...</td>\n",
       "    </tr>\n",
       "    <tr>\n",
       "      <th>1</th>\n",
       "      <td>s2</td>\n",
       "      <td>TV Show</td>\n",
       "      <td>Blood &amp; Water</td>\n",
       "      <td>NaN</td>\n",
       "      <td>Ama Qamata, Khosi Ngema, Gail Mabalane, Thaban...</td>\n",
       "      <td>South Africa</td>\n",
       "      <td>September 24, 2021</td>\n",
       "      <td>2021</td>\n",
       "      <td>TV-MA</td>\n",
       "      <td>2 Seasons</td>\n",
       "      <td>International TV Shows, TV Dramas, TV Mysteries</td>\n",
       "      <td>After crossing paths at a party, a Cape Town t...</td>\n",
       "    </tr>\n",
       "    <tr>\n",
       "      <th>2</th>\n",
       "      <td>s3</td>\n",
       "      <td>TV Show</td>\n",
       "      <td>Ganglands</td>\n",
       "      <td>Julien Leclercq</td>\n",
       "      <td>Sami Bouajila, Tracy Gotoas, Samuel Jouy, Nabi...</td>\n",
       "      <td>NaN</td>\n",
       "      <td>September 24, 2021</td>\n",
       "      <td>2021</td>\n",
       "      <td>TV-MA</td>\n",
       "      <td>1 Season</td>\n",
       "      <td>Crime TV Shows, International TV Shows, TV Act...</td>\n",
       "      <td>To protect his family from a powerful drug lor...</td>\n",
       "    </tr>\n",
       "    <tr>\n",
       "      <th>3</th>\n",
       "      <td>s4</td>\n",
       "      <td>TV Show</td>\n",
       "      <td>Jailbirds New Orleans</td>\n",
       "      <td>NaN</td>\n",
       "      <td>NaN</td>\n",
       "      <td>NaN</td>\n",
       "      <td>September 24, 2021</td>\n",
       "      <td>2021</td>\n",
       "      <td>TV-MA</td>\n",
       "      <td>1 Season</td>\n",
       "      <td>Docuseries, Reality TV</td>\n",
       "      <td>Feuds, flirtations and toilet talk go down amo...</td>\n",
       "    </tr>\n",
       "    <tr>\n",
       "      <th>4</th>\n",
       "      <td>s5</td>\n",
       "      <td>TV Show</td>\n",
       "      <td>Kota Factory</td>\n",
       "      <td>NaN</td>\n",
       "      <td>Mayur More, Jitendra Kumar, Ranjan Raj, Alam K...</td>\n",
       "      <td>India</td>\n",
       "      <td>September 24, 2021</td>\n",
       "      <td>2021</td>\n",
       "      <td>TV-MA</td>\n",
       "      <td>2 Seasons</td>\n",
       "      <td>International TV Shows, Romantic TV Shows, TV ...</td>\n",
       "      <td>In a city of coaching centers known to train I...</td>\n",
       "    </tr>\n",
       "  </tbody>\n",
       "</table>\n",
       "</div>"
      ],
      "text/plain": [
       "  show_id     type                  title         director  \\\n",
       "0      s1    Movie   Dick Johnson Is Dead  Kirsten Johnson   \n",
       "1      s2  TV Show          Blood & Water              NaN   \n",
       "2      s3  TV Show              Ganglands  Julien Leclercq   \n",
       "3      s4  TV Show  Jailbirds New Orleans              NaN   \n",
       "4      s5  TV Show           Kota Factory              NaN   \n",
       "\n",
       "                                                cast        country  \\\n",
       "0                                                NaN  United States   \n",
       "1  Ama Qamata, Khosi Ngema, Gail Mabalane, Thaban...   South Africa   \n",
       "2  Sami Bouajila, Tracy Gotoas, Samuel Jouy, Nabi...            NaN   \n",
       "3                                                NaN            NaN   \n",
       "4  Mayur More, Jitendra Kumar, Ranjan Raj, Alam K...          India   \n",
       "\n",
       "           date_added  release_year rating   duration  \\\n",
       "0  September 25, 2021          2020  PG-13     90 min   \n",
       "1  September 24, 2021          2021  TV-MA  2 Seasons   \n",
       "2  September 24, 2021          2021  TV-MA   1 Season   \n",
       "3  September 24, 2021          2021  TV-MA   1 Season   \n",
       "4  September 24, 2021          2021  TV-MA  2 Seasons   \n",
       "\n",
       "                                           listed_in  \\\n",
       "0                                      Documentaries   \n",
       "1    International TV Shows, TV Dramas, TV Mysteries   \n",
       "2  Crime TV Shows, International TV Shows, TV Act...   \n",
       "3                             Docuseries, Reality TV   \n",
       "4  International TV Shows, Romantic TV Shows, TV ...   \n",
       "\n",
       "                                         description  \n",
       "0  As her father nears the end of his life, filmm...  \n",
       "1  After crossing paths at a party, a Cape Town t...  \n",
       "2  To protect his family from a powerful drug lor...  \n",
       "3  Feuds, flirtations and toilet talk go down amo...  \n",
       "4  In a city of coaching centers known to train I...  "
      ]
     },
     "execution_count": 12,
     "metadata": {},
     "output_type": "execute_result"
    }
   ],
   "source": [
    "data.head()"
   ]
  },
  {
   "cell_type": "code",
   "execution_count": 13,
   "id": "b823e3c8",
   "metadata": {},
   "outputs": [
    {
     "data": {
      "text/plain": [
       "(8809, 12)"
      ]
     },
     "execution_count": 13,
     "metadata": {},
     "output_type": "execute_result"
    }
   ],
   "source": [
    "data.shape"
   ]
  },
  {
   "cell_type": "code",
   "execution_count": 14,
   "id": "d25f037a",
   "metadata": {},
   "outputs": [],
   "source": [
    "data.dropna(inplace=True)"
   ]
  },
  {
   "cell_type": "code",
   "execution_count": 15,
   "id": "4bae324b",
   "metadata": {},
   "outputs": [],
   "source": [
    "data_100 = data.head(100)\n",
    "data_100.to_csv('datasets/netflix_titles_100.csv')"
   ]
  },
  {
   "cell_type": "markdown",
   "id": "e25f2366",
   "metadata": {},
   "source": [
    "Feature Engineering"
   ]
  },
  {
   "cell_type": "code",
   "execution_count": 18,
   "id": "fe855947",
   "metadata": {},
   "outputs": [],
   "source": [
    "tfidf = TfidfVectorizer()\n",
    "tfidf_matrix=tfidf.fit_transform(data['description'])"
   ]
  },
  {
   "cell_type": "code",
   "execution_count": 22,
   "id": "3f0cb3c8",
   "metadata": {},
   "outputs": [
    {
     "data": {
      "text/plain": [
       "'Sankofa'"
      ]
     },
     "execution_count": 22,
     "metadata": {},
     "output_type": "execute_result"
    }
   ],
   "source": [
    "data.iloc[0]['title']"
   ]
  },
  {
   "cell_type": "code",
   "execution_count": 24,
   "id": "4302144c",
   "metadata": {},
   "outputs": [
    {
     "data": {
      "text/plain": [
       "7"
      ]
     },
     "execution_count": 24,
     "metadata": {},
     "output_type": "execute_result"
    }
   ],
   "source": [
    "movie_index = data[data['title']=='Sankofa'].index[0]\n",
    "movie_index"
   ]
  },
  {
   "cell_type": "code",
   "execution_count": 27,
   "id": "9771aabd",
   "metadata": {},
   "outputs": [],
   "source": [
    "tfidf_movie=tfidf_matrix[movie_index]\n",
    "desc_cosine_sim = cosine_similarity(tfidf_matrix,tfidf_movie)"
   ]
  },
  {
   "cell_type": "code",
   "execution_count": 28,
   "id": "6a1b0dca",
   "metadata": {},
   "outputs": [],
   "source": [
    "recommendation = np.argsort(desc_cosine_sim.flatten())[::-1][:5]"
   ]
  },
  {
   "cell_type": "code",
   "execution_count": 29,
   "id": "33e14fc6",
   "metadata": {},
   "outputs": [
    {
     "data": {
      "text/plain": [
       "[title                                                   Paranoia\n",
       " description    Blackmailed by his company's CEO, a low-level ...\n",
       " Name: 29, dtype: object,\n",
       " title                                    Manorama Six Feet Under\n",
       " description    A government employee and aspiring crime write...\n",
       " Name: 1945, dtype: object,\n",
       " title                                            The Arbitration\n",
       " description    An arbitration panel is formed after a company...\n",
       " Name: 2882, dtype: object,\n",
       " title                                                 First Kiss\n",
       " description    A starry-eyed employee of a hot cosmetics comp...\n",
       " Name: 3465, dtype: object,\n",
       " title                                                 Ex Machina\n",
       " description    A coder at a tech company wins a week-long ret...\n",
       " Name: 6716, dtype: object]"
      ]
     },
     "execution_count": 29,
     "metadata": {},
     "output_type": "execute_result"
    }
   ],
   "source": [
    "[data.iloc[i][['title','description']] for i in recommendation]"
   ]
  },
  {
   "cell_type": "markdown",
   "id": "8faf4f5f",
   "metadata": {},
   "source": [
    " Sentiment Analysis on Movie Reviews"
   ]
  },
  {
   "cell_type": "code",
   "execution_count": 30,
   "id": "2b6f8872",
   "metadata": {},
   "outputs": [],
   "source": [
    "import pandas as pd\n",
    "import numpy as np\n",
    "from sklearn.feature_extraction.text import TfidfVectorizer\n",
    "from sklearn.metrics.pairwise import cosine_similarity\n",
    "from vaderSentiment.vaderSentiment import SentimentIntensityAnalyzer\n",
    "import nltk\n",
    "from nltk.corpus import stopwords\n",
    "import string\n"
   ]
  },
  {
   "cell_type": "code",
   "execution_count": 31,
   "id": "5ba00164",
   "metadata": {},
   "outputs": [],
   "source": [
    "def clean_text(text):\n",
    "    text = text.lower()\n",
    "    text = ''.join([c for c in text if c not in string.punctuation])\n",
    "    tokens = text.split()\n",
    "    tokens = [word for word in tokens if word not in stop_words]\n",
    "    return ''.join(tokens)"
   ]
  },
  {
   "cell_type": "code",
   "execution_count": 32,
   "id": "c73ea73e",
   "metadata": {},
   "outputs": [],
   "source": [
    "obj = SentimentIntensityAnalyzer()"
   ]
  },
  {
   "cell_type": "code",
   "execution_count": 33,
   "id": "6366ba6e",
   "metadata": {},
   "outputs": [
    {
     "name": "stdout",
     "output_type": "stream",
     "text": [
      "{'neg': 0.0, 'neu': 0.484, 'pos': 0.516, 'compound': 0.4927}\n"
     ]
    }
   ],
   "source": [
    "sentence = \"Ram is really good\"\n",
    "sentiment_dict = obj.polarity_scores(sentence)\n",
    "print(sentiment_dict)"
   ]
  },
  {
   "cell_type": "code",
   "execution_count": 34,
   "id": "b58ca6b5",
   "metadata": {},
   "outputs": [
    {
     "name": "stdout",
     "output_type": "stream",
     "text": [
      "{'neg': 0.558, 'neu': 0.442, 'pos': 0.0, 'compound': -0.5849}\n"
     ]
    }
   ],
   "source": [
    "sentence = \"Rahul is really bad\"\n",
    "sentiment_dict = obj.polarity_scores(sentence)\n",
    "print(sentiment_dict)"
   ]
  },
  {
   "cell_type": "markdown",
   "id": "dca59783",
   "metadata": {},
   "source": [
    "Weather Forecasting Module"
   ]
  },
  {
   "cell_type": "code",
   "execution_count": 1,
   "id": "0cdbd600",
   "metadata": {},
   "outputs": [
    {
     "name": "stderr",
     "output_type": "stream",
     "text": [
      "C:\\Users\\acer\\anaconda3\\Lib\\site-packages\\pandas\\core\\arrays\\masked.py:60: UserWarning: Pandas requires version '1.3.6' or newer of 'bottleneck' (version '1.3.5' currently installed).\n",
      "  from pandas.core import (\n"
     ]
    }
   ],
   "source": [
    "import pandas as pd\n",
    "import numpy as np\n",
    "import matplotlib.pyplot as plt\n",
    "import seaborn as sns\n",
    "\n",
    "from sklearn.model_selection import train_test_split\n",
    "from sklearn.linear_model import LinearRegression\n",
    "from sklearn.ensemble import RandomForestRegressor\n",
    "from sklearn.metrics import mean_squared_error, r2_score"
   ]
  },
  {
   "cell_type": "code",
   "execution_count": 3,
   "id": "f808fdfb",
   "metadata": {},
   "outputs": [
    {
     "data": {
      "text/plain": [
       "(96453, 12)"
      ]
     },
     "execution_count": 3,
     "metadata": {},
     "output_type": "execute_result"
    }
   ],
   "source": [
    "df = pd.read_csv('datasets/weatherHistory.csv')  # Replace with your actual file\n",
    "df.head()\n",
    "df.shape"
   ]
  },
  {
   "cell_type": "markdown",
   "id": "563de836",
   "metadata": {},
   "source": [
    "Data Preprocessing & Cleaning"
   ]
  },
  {
   "cell_type": "code",
   "execution_count": 37,
   "id": "4c76add1",
   "metadata": {},
   "outputs": [],
   "source": [
    "df = df.dropna()"
   ]
  },
  {
   "cell_type": "code",
   "execution_count": 38,
   "id": "7bd2827d",
   "metadata": {},
   "outputs": [],
   "source": [
    "df['Formatted Date'] = pd.to_datetime(df['Formatted Date'],utc=True)"
   ]
  },
  {
   "cell_type": "code",
   "execution_count": 39,
   "id": "528a4ee2",
   "metadata": {},
   "outputs": [],
   "source": [
    "df['month'] = df['Formatted Date'].dt.month\n",
    "df['day'] = df['Formatted Date'].dt.day\n",
    "df['year'] = df['Formatted Date'].dt.year\n",
    "df['dayofweek'] = df['Formatted Date'].dt.dayofweek"
   ]
  },
  {
   "cell_type": "code",
   "execution_count": 40,
   "id": "4ac79590",
   "metadata": {},
   "outputs": [],
   "source": [
    "df = df.drop(columns=['Formatted Date'])"
   ]
  },
  {
   "cell_type": "code",
   "execution_count": 41,
   "id": "4dc78c89",
   "metadata": {},
   "outputs": [],
   "source": [
    "# Feature Selection"
   ]
  },
  {
   "cell_type": "code",
   "execution_count": 42,
   "id": "12e914ff",
   "metadata": {},
   "outputs": [
    {
     "data": {
      "text/plain": [
       "Index(['Summary', 'Precip Type', 'Temperature (C)', 'Apparent Temperature (C)',\n",
       "       'Humidity', 'Wind Speed (km/h)', 'Wind Bearing (degrees)',\n",
       "       'Visibility (km)', 'Loud Cover', 'Pressure (millibars)',\n",
       "       'Daily Summary', 'month', 'day', 'year', 'dayofweek'],\n",
       "      dtype='object')"
      ]
     },
     "execution_count": 42,
     "metadata": {},
     "output_type": "execute_result"
    }
   ],
   "source": [
    "df.columns"
   ]
  },
  {
   "cell_type": "code",
   "execution_count": 43,
   "id": "828566c8",
   "metadata": {},
   "outputs": [],
   "source": [
    "X = df.drop('Temperature (C)', axis=1)\n",
    "y = df['Temperature (C)']"
   ]
  },
  {
   "cell_type": "code",
   "execution_count": 44,
   "id": "9256cb30",
   "metadata": {},
   "outputs": [],
   "source": [
    "from sklearn.preprocessing import OneHotEncoder\n",
    "from sklearn.compose import ColumnTransformer\n",
    "from sklearn.pipeline import Pipeline\n",
    "from sklearn.impute import SimpleImputer"
   ]
  },
  {
   "cell_type": "code",
   "execution_count": 45,
   "id": "2133fd35",
   "metadata": {},
   "outputs": [
    {
     "data": {
      "text/html": [
       "<style>#sk-container-id-1 {color: black;}#sk-container-id-1 pre{padding: 0;}#sk-container-id-1 div.sk-toggleable {background-color: white;}#sk-container-id-1 label.sk-toggleable__label {cursor: pointer;display: block;width: 100%;margin-bottom: 0;padding: 0.3em;box-sizing: border-box;text-align: center;}#sk-container-id-1 label.sk-toggleable__label-arrow:before {content: \"▸\";float: left;margin-right: 0.25em;color: #696969;}#sk-container-id-1 label.sk-toggleable__label-arrow:hover:before {color: black;}#sk-container-id-1 div.sk-estimator:hover label.sk-toggleable__label-arrow:before {color: black;}#sk-container-id-1 div.sk-toggleable__content {max-height: 0;max-width: 0;overflow: hidden;text-align: left;background-color: #f0f8ff;}#sk-container-id-1 div.sk-toggleable__content pre {margin: 0.2em;color: black;border-radius: 0.25em;background-color: #f0f8ff;}#sk-container-id-1 input.sk-toggleable__control:checked~div.sk-toggleable__content {max-height: 200px;max-width: 100%;overflow: auto;}#sk-container-id-1 input.sk-toggleable__control:checked~label.sk-toggleable__label-arrow:before {content: \"▾\";}#sk-container-id-1 div.sk-estimator input.sk-toggleable__control:checked~label.sk-toggleable__label {background-color: #d4ebff;}#sk-container-id-1 div.sk-label input.sk-toggleable__control:checked~label.sk-toggleable__label {background-color: #d4ebff;}#sk-container-id-1 input.sk-hidden--visually {border: 0;clip: rect(1px 1px 1px 1px);clip: rect(1px, 1px, 1px, 1px);height: 1px;margin: -1px;overflow: hidden;padding: 0;position: absolute;width: 1px;}#sk-container-id-1 div.sk-estimator {font-family: monospace;background-color: #f0f8ff;border: 1px dotted black;border-radius: 0.25em;box-sizing: border-box;margin-bottom: 0.5em;}#sk-container-id-1 div.sk-estimator:hover {background-color: #d4ebff;}#sk-container-id-1 div.sk-parallel-item::after {content: \"\";width: 100%;border-bottom: 1px solid gray;flex-grow: 1;}#sk-container-id-1 div.sk-label:hover label.sk-toggleable__label {background-color: #d4ebff;}#sk-container-id-1 div.sk-serial::before {content: \"\";position: absolute;border-left: 1px solid gray;box-sizing: border-box;top: 0;bottom: 0;left: 50%;z-index: 0;}#sk-container-id-1 div.sk-serial {display: flex;flex-direction: column;align-items: center;background-color: white;padding-right: 0.2em;padding-left: 0.2em;position: relative;}#sk-container-id-1 div.sk-item {position: relative;z-index: 1;}#sk-container-id-1 div.sk-parallel {display: flex;align-items: stretch;justify-content: center;background-color: white;position: relative;}#sk-container-id-1 div.sk-item::before, #sk-container-id-1 div.sk-parallel-item::before {content: \"\";position: absolute;border-left: 1px solid gray;box-sizing: border-box;top: 0;bottom: 0;left: 50%;z-index: -1;}#sk-container-id-1 div.sk-parallel-item {display: flex;flex-direction: column;z-index: 1;position: relative;background-color: white;}#sk-container-id-1 div.sk-parallel-item:first-child::after {align-self: flex-end;width: 50%;}#sk-container-id-1 div.sk-parallel-item:last-child::after {align-self: flex-start;width: 50%;}#sk-container-id-1 div.sk-parallel-item:only-child::after {width: 0;}#sk-container-id-1 div.sk-dashed-wrapped {border: 1px dashed gray;margin: 0 0.4em 0.5em 0.4em;box-sizing: border-box;padding-bottom: 0.4em;background-color: white;}#sk-container-id-1 div.sk-label label {font-family: monospace;font-weight: bold;display: inline-block;line-height: 1.2em;}#sk-container-id-1 div.sk-label-container {text-align: center;}#sk-container-id-1 div.sk-container {/* jupyter's `normalize.less` sets `[hidden] { display: none; }` but bootstrap.min.css set `[hidden] { display: none !important; }` so we also need the `!important` here to be able to override the default hidden behavior on the sphinx rendered scikit-learn.org. See: https://github.com/scikit-learn/scikit-learn/issues/21755 */display: inline-block !important;position: relative;}#sk-container-id-1 div.sk-text-repr-fallback {display: none;}</style><div id=\"sk-container-id-1\" class=\"sk-top-container\"><div class=\"sk-text-repr-fallback\"><pre>Pipeline(steps=[(&#x27;preprocessor&#x27;,\n",
       "                 ColumnTransformer(remainder=&#x27;passthrough&#x27;,\n",
       "                                   transformers=[(&#x27;cat&#x27;,\n",
       "                                                  Pipeline(steps=[(&#x27;imputer&#x27;,\n",
       "                                                                   SimpleImputer(strategy=&#x27;most_frequent&#x27;)),\n",
       "                                                                  (&#x27;encoder&#x27;,\n",
       "                                                                   OneHotEncoder(handle_unknown=&#x27;ignore&#x27;))]),\n",
       "                                                  [&#x27;Summary&#x27;, &#x27;Precip Type&#x27;,\n",
       "                                                   &#x27;Daily Summary&#x27;])])),\n",
       "                (&#x27;regressor&#x27;, RandomForestRegressor(random_state=42))])</pre><b>In a Jupyter environment, please rerun this cell to show the HTML representation or trust the notebook. <br />On GitHub, the HTML representation is unable to render, please try loading this page with nbviewer.org.</b></div><div class=\"sk-container\" hidden><div class=\"sk-item sk-dashed-wrapped\"><div class=\"sk-label-container\"><div class=\"sk-label sk-toggleable\"><input class=\"sk-toggleable__control sk-hidden--visually\" id=\"sk-estimator-id-1\" type=\"checkbox\" ><label for=\"sk-estimator-id-1\" class=\"sk-toggleable__label sk-toggleable__label-arrow\">Pipeline</label><div class=\"sk-toggleable__content\"><pre>Pipeline(steps=[(&#x27;preprocessor&#x27;,\n",
       "                 ColumnTransformer(remainder=&#x27;passthrough&#x27;,\n",
       "                                   transformers=[(&#x27;cat&#x27;,\n",
       "                                                  Pipeline(steps=[(&#x27;imputer&#x27;,\n",
       "                                                                   SimpleImputer(strategy=&#x27;most_frequent&#x27;)),\n",
       "                                                                  (&#x27;encoder&#x27;,\n",
       "                                                                   OneHotEncoder(handle_unknown=&#x27;ignore&#x27;))]),\n",
       "                                                  [&#x27;Summary&#x27;, &#x27;Precip Type&#x27;,\n",
       "                                                   &#x27;Daily Summary&#x27;])])),\n",
       "                (&#x27;regressor&#x27;, RandomForestRegressor(random_state=42))])</pre></div></div></div><div class=\"sk-serial\"><div class=\"sk-item sk-dashed-wrapped\"><div class=\"sk-label-container\"><div class=\"sk-label sk-toggleable\"><input class=\"sk-toggleable__control sk-hidden--visually\" id=\"sk-estimator-id-2\" type=\"checkbox\" ><label for=\"sk-estimator-id-2\" class=\"sk-toggleable__label sk-toggleable__label-arrow\">preprocessor: ColumnTransformer</label><div class=\"sk-toggleable__content\"><pre>ColumnTransformer(remainder=&#x27;passthrough&#x27;,\n",
       "                  transformers=[(&#x27;cat&#x27;,\n",
       "                                 Pipeline(steps=[(&#x27;imputer&#x27;,\n",
       "                                                  SimpleImputer(strategy=&#x27;most_frequent&#x27;)),\n",
       "                                                 (&#x27;encoder&#x27;,\n",
       "                                                  OneHotEncoder(handle_unknown=&#x27;ignore&#x27;))]),\n",
       "                                 [&#x27;Summary&#x27;, &#x27;Precip Type&#x27;, &#x27;Daily Summary&#x27;])])</pre></div></div></div><div class=\"sk-parallel\"><div class=\"sk-parallel-item\"><div class=\"sk-item\"><div class=\"sk-label-container\"><div class=\"sk-label sk-toggleable\"><input class=\"sk-toggleable__control sk-hidden--visually\" id=\"sk-estimator-id-3\" type=\"checkbox\" ><label for=\"sk-estimator-id-3\" class=\"sk-toggleable__label sk-toggleable__label-arrow\">cat</label><div class=\"sk-toggleable__content\"><pre>[&#x27;Summary&#x27;, &#x27;Precip Type&#x27;, &#x27;Daily Summary&#x27;]</pre></div></div></div><div class=\"sk-serial\"><div class=\"sk-item\"><div class=\"sk-serial\"><div class=\"sk-item\"><div class=\"sk-estimator sk-toggleable\"><input class=\"sk-toggleable__control sk-hidden--visually\" id=\"sk-estimator-id-4\" type=\"checkbox\" ><label for=\"sk-estimator-id-4\" class=\"sk-toggleable__label sk-toggleable__label-arrow\">SimpleImputer</label><div class=\"sk-toggleable__content\"><pre>SimpleImputer(strategy=&#x27;most_frequent&#x27;)</pre></div></div></div><div class=\"sk-item\"><div class=\"sk-estimator sk-toggleable\"><input class=\"sk-toggleable__control sk-hidden--visually\" id=\"sk-estimator-id-5\" type=\"checkbox\" ><label for=\"sk-estimator-id-5\" class=\"sk-toggleable__label sk-toggleable__label-arrow\">OneHotEncoder</label><div class=\"sk-toggleable__content\"><pre>OneHotEncoder(handle_unknown=&#x27;ignore&#x27;)</pre></div></div></div></div></div></div></div></div><div class=\"sk-parallel-item\"><div class=\"sk-item\"><div class=\"sk-label-container\"><div class=\"sk-label sk-toggleable\"><input class=\"sk-toggleable__control sk-hidden--visually\" id=\"sk-estimator-id-6\" type=\"checkbox\" ><label for=\"sk-estimator-id-6\" class=\"sk-toggleable__label sk-toggleable__label-arrow\">remainder</label><div class=\"sk-toggleable__content\"><pre>[&#x27;Apparent Temperature (C)&#x27;, &#x27;Humidity&#x27;, &#x27;Wind Speed (km/h)&#x27;, &#x27;Wind Bearing (degrees)&#x27;, &#x27;Visibility (km)&#x27;, &#x27;Loud Cover&#x27;, &#x27;Pressure (millibars)&#x27;, &#x27;month&#x27;, &#x27;day&#x27;, &#x27;year&#x27;, &#x27;dayofweek&#x27;]</pre></div></div></div><div class=\"sk-serial\"><div class=\"sk-item\"><div class=\"sk-estimator sk-toggleable\"><input class=\"sk-toggleable__control sk-hidden--visually\" id=\"sk-estimator-id-7\" type=\"checkbox\" ><label for=\"sk-estimator-id-7\" class=\"sk-toggleable__label sk-toggleable__label-arrow\">passthrough</label><div class=\"sk-toggleable__content\"><pre>passthrough</pre></div></div></div></div></div></div></div></div><div class=\"sk-item\"><div class=\"sk-estimator sk-toggleable\"><input class=\"sk-toggleable__control sk-hidden--visually\" id=\"sk-estimator-id-8\" type=\"checkbox\" ><label for=\"sk-estimator-id-8\" class=\"sk-toggleable__label sk-toggleable__label-arrow\">RandomForestRegressor</label><div class=\"sk-toggleable__content\"><pre>RandomForestRegressor(random_state=42)</pre></div></div></div></div></div></div></div>"
      ],
      "text/plain": [
       "Pipeline(steps=[('preprocessor',\n",
       "                 ColumnTransformer(remainder='passthrough',\n",
       "                                   transformers=[('cat',\n",
       "                                                  Pipeline(steps=[('imputer',\n",
       "                                                                   SimpleImputer(strategy='most_frequent')),\n",
       "                                                                  ('encoder',\n",
       "                                                                   OneHotEncoder(handle_unknown='ignore'))]),\n",
       "                                                  ['Summary', 'Precip Type',\n",
       "                                                   'Daily Summary'])])),\n",
       "                ('regressor', RandomForestRegressor(random_state=42))])"
      ]
     },
     "execution_count": 45,
     "metadata": {},
     "output_type": "execute_result"
    }
   ],
   "source": [
    "# Identify categorical columns (e.g. string/object type)\n",
    "categorical_cols = X.select_dtypes(include=['object', 'category']).columns.tolist()\n",
    "numeric_cols = X.select_dtypes(include=['int64', 'float64']).columns.tolist()\n",
    "\n",
    "# Preprocessing\n",
    "categorical_transformer = Pipeline(steps=[\n",
    "    ('imputer', SimpleImputer(strategy='most_frequent')),\n",
    "    ('encoder', OneHotEncoder(handle_unknown='ignore'))\n",
    "])\n",
    "\n",
    "# Combine transformers\n",
    "preprocessor = ColumnTransformer(\n",
    "    transformers=[\n",
    "        ('cat', categorical_transformer, categorical_cols)\n",
    "    ],\n",
    "    remainder='passthrough'  # keep other columns as-is (numerical ones)\n",
    ")\n",
    "\n",
    "# Full pipeline with model\n",
    "model = Pipeline(steps=[\n",
    "    ('preprocessor', preprocessor),\n",
    "    ('regressor', RandomForestRegressor(n_estimators=100, random_state=42))\n",
    "])\n",
    "\n",
    "# Train-Test Split\n",
    "X_train, X_test, y_train, y_test = train_test_split(X, y, test_size=0.2, random_state=42)\n",
    "\n",
    "# Fit model\n",
    "model.fit(X_train, y_train)\n"
   ]
  },
  {
   "cell_type": "code",
   "execution_count": 6,
   "id": "665a1682",
   "metadata": {},
   "outputs": [],
   "source": [
    "import pickle\n",
    "\n",
    "# Save the model to a file\n",
    "with open('weather_model.pkl', 'wb') as f:\n",
    "    pickle.dump(model, f)"
   ]
  },
  {
   "cell_type": "code",
   "execution_count": 8,
   "id": "c57bab86",
   "metadata": {},
   "outputs": [],
   "source": [
    "# Load the model from the file\n",
    "with open('weather_model.pkl', 'rb') as f:\n",
    "    loaded_model = pickle.load(f)\n",
    "\n",
    "# Use it for prediction\n",
    "predictions = loaded_model.predict(X_test)"
   ]
  },
  {
   "cell_type": "code",
   "execution_count": 46,
   "id": "a8bb9e91",
   "metadata": {},
   "outputs": [
    {
     "name": "stdout",
     "output_type": "stream",
     "text": [
      "Current Weather Data:\n",
      "Temperature: 43.1°C\n",
      "Humidity: 13%\n",
      "Pressure: 998 hPa\n",
      "Wind Speed: 5.26 m/s\n"
     ]
    }
   ],
   "source": [
    "import requests\n",
    "\n",
    "API_KEY = \"Api_key\"\n",
    "CITY = \"Delhi\"\n",
    "URL = f\"http://api.openweathermap.org/data/2.5/weather?q={CITY}&appid={API_KEY}&units=metric\"\n",
    "\n",
    "response = requests.get(URL)\n",
    "data = response.json()\n",
    "\n",
    "# Extract required features\n",
    "humidity = data['main']['humidity']\n",
    "pressure = data['main']['pressure']\n",
    "wind_speed = data['wind']['speed']\n",
    "temp = data['main']['temp']\n",
    "\n",
    "print(\"Current Weather Data:\")\n",
    "print(f\"Temperature: {temp}°C\")\n",
    "print(f\"Humidity: {humidity}%\")\n",
    "print(f\"Pressure: {pressure} hPa\")\n",
    "print(f\"Wind Speed: {wind_speed} m/s\")"
   ]
  },
  {
   "cell_type": "code",
   "execution_count": null,
   "id": "3d7109b8",
   "metadata": {},
   "outputs": [],
   "source": [
    "import numpy as np\n",
    "\n",
    "# Create input array (reshape to 2D for sklearn)\n",
    "input_data = np.array([[temp, humidity, pressure, wind_speed]])"
   ]
  },
  {
   "cell_type": "code",
   "execution_count": 49,
   "id": "2456cfa3",
   "metadata": {},
   "outputs": [
    {
     "name": "stdout",
     "output_type": "stream",
     "text": [
      "Model Prediction: [26.80338889]\n"
     ]
    }
   ],
   "source": [
    "\n",
    "import requests\n",
    "import pickle\n",
    "import numpy as np\n",
    "import datetime\n",
    "\n",
    "# Step 1: Fetch current weather\n",
    "API_KEY = 'cea962528ea2296e50a65b42c009e86c'\n",
    "CITY = 'kochi'\n",
    "URL = f'http://api.openweathermap.org/data/2.5/weather?q={CITY}&appid={API_KEY}&units=metric'\n",
    "\n",
    "response = requests.get(URL)\n",
    "data = response.json()\n",
    "\n",
    "# Step 2: Extract values\n",
    "temperature = data['main']['temp']\n",
    "humidity = data['main']['humidity']\n",
    "pressure = data['main']['pressure']  # in hPa, equivalent to millibars\n",
    "wind_speed = data['wind']['speed'] * 3.6  # m/s to km/h\n",
    "wind_bearing = data['wind'].get('deg', 0)  # default to 0 if missing\n",
    "\n",
    "# Optional: Use defaults or estimate if not provided by API\n",
    "apparent_temp = temperature  # assume equal if unavailable\n",
    "visibility = data.get('visibility', 10000) / 1000  # in km\n",
    "cloud_cover = data['clouds'].get('all', 0) / 100  # convert 0–100 to 0–1 scale\n",
    "\n",
    "# Categorical fields (convert to strings)\n",
    "summary = data['weather'][0]['main']  # e.g., 'Clear'\n",
    "precip_type = 'rain' if 'rain' in data else 'none'\n",
    "daily_summary = data['weather'][0]['description']\n",
    "\n",
    "# Date features\n",
    "today = datetime.datetime.now()\n",
    "month = today.month\n",
    "day = today.day\n",
    "year = today.year\n",
    "dayofweek = today.weekday()  # Monday=0\n",
    "\n",
    "# Step 3: Create a DataFrame with a single row\n",
    "import pandas as pd\n",
    "\n",
    "input_df = pd.DataFrame([{\n",
    "    'Summary': summary,\n",
    "    'Precip Type': precip_type,\n",
    "#     'Temperature (C)': temperature,\n",
    "    'Apparent Temperature (C)': apparent_temp,\n",
    "    'Humidity': humidity,\n",
    "    'Wind Speed (km/h)': wind_speed,\n",
    "    'Wind Bearing (degrees)': wind_bearing,\n",
    "    'Visibility (km)': visibility,\n",
    "    'Loud Cover': cloud_cover,\n",
    "    'Pressure (millibars)': pressure,\n",
    "    'Daily Summary': daily_summary,\n",
    "    'month': month,\n",
    "    'day': day,\n",
    "    'year': year,\n",
    "    'dayofweek': dayofweek\n",
    "}])\n",
    "\n",
    "# Optional: apply same preprocessing (LabelEncoding, OneHot, etc.) if model needs it\n",
    "\n",
    "# Step 4: Load model and predict\n",
    "with open('weather_model.pkl', 'rb') as f:\n",
    "    model = pickle.load(f)\n",
    "\n",
    "# If your model expects encoded columns, you must preprocess `input_df` exactly like your training data\n",
    "prediction = model.predict(input_df)\n",
    "\n",
    "print(\"Model Prediction:\", prediction)"
   ]
  },
  {
   "cell_type": "code",
   "execution_count": null,
   "id": "4b61557c",
   "metadata": {},
   "outputs": [],
   "source": [
    "def interpret_weather(temp_c):\n",
    "    if temp_c >= 30:\n",
    "        return \"Sunny\", \"It's a scorcher! Time for a summer blockbuster.\"\n",
    "    elif 20 <= temp_c < 30:\n",
    "        return \"Clear\", \"Clear skies ahead — perfect for a feel-good film.\"\n",
    "    elif 10 <= temp_c < 20:\n",
    "        return \"Cloudy\", \"Cloudy - just like a slow-burn mystery thriller!\"\n",
    "    elif 0 <= temp_c < 10:\n",
    "        return \"Chilly\", \"Chilly vibes call for a cozy rom-com.\"\n",
    "    else:\n",
    "        return \"Snowy\", \"Snowy and serene — maybe a classic drama?\""
   ]
  },
  {
   "cell_type": "code",
   "execution_count": null,
   "id": "213f7eca",
   "metadata": {},
   "outputs": [],
   "source": [
    "interpret_weather(prediction)"
   ]
  }
 ],
 "metadata": {
  "kernelspec": {
   "display_name": "Python 3 (ipykernel)",
   "language": "python",
   "name": "python3"
  },
  "language_info": {
   "codemirror_mode": {
    "name": "ipython",
    "version": 3
   },
   "file_extension": ".py",
   "mimetype": "text/x-python",
   "name": "python",
   "nbconvert_exporter": "python",
   "pygments_lexer": "ipython3",
   "version": "3.11.5"
  }
 },
 "nbformat": 4,
 "nbformat_minor": 5
}
